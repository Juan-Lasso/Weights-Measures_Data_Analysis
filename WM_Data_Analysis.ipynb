{
 "cells": [
  {
   "cell_type": "code",
   "execution_count": null,
   "id": "b74d5cd0-4005-46ac-a228-0798642940a0",
   "metadata": {},
   "outputs": [],
   "source": [
    "## So first let's import the data and set up our libraries \n",
    "import pandas as pd \n",
    "wm_data = pd.read_excel(\"Weights-Measures_Data.xlsx\")"
   ]
  },
  {
   "cell_type": "code",
   "execution_count": 3,
   "id": "cb5896e2-c774-4926-8d73-9dbea4f9d96b",
   "metadata": {
    "scrolled": true
   },
   "outputs": [
    {
     "name": "stdout",
     "output_type": "stream",
     "text": [
      "<class 'pandas.core.frame.DataFrame'>\n",
      "RangeIndex: 12755 entries, 0 to 12754\n",
      "Data columns (total 35 columns):\n",
      " #   Column                         Non-Null Count  Dtype         \n",
      "---  ------                         --------------  -----         \n",
      " 0   Certificate of Inspection      12755 non-null  object        \n",
      " 1   Inspection Number              12755 non-null  object        \n",
      " 2   Date of Occurance              12755 non-null  datetime64[ns]\n",
      " 3   Year (added)                   12755 non-null  int64         \n",
      " 4   Business Unique ID             12750 non-null  object        \n",
      " 5   Business Name                  12755 non-null  object        \n",
      " 6   DBA Trade Name                 3552 non-null   object        \n",
      " 7   Business Category              12755 non-null  object        \n",
      " 8   Inspection type                12755 non-null  object        \n",
      " 9   Device Category                12755 non-null  object        \n",
      " 10  Device Class                   12699 non-null  object        \n",
      " 11  Device Type                    12755 non-null  object        \n",
      " 12  Devices Inspected              12755 non-null  int64         \n",
      " 13  Devices Approved               12755 non-null  int64         \n",
      " 14  Devices Condemned/Confiscated  12755 non-null  int64         \n",
      " 15  Confiscated                    1419 non-null   object        \n",
      " 16  Address Type                   12755 non-null  object        \n",
      " 17  Building Number                12642 non-null  object        \n",
      " 18  Street Name                    12755 non-null  object        \n",
      " 19  Street Name 2                  125 non-null    object        \n",
      " 20  Unit Type                      305 non-null    object        \n",
      " 21  Unit                           279 non-null    object        \n",
      " 22  City                           12750 non-null  object        \n",
      " 23  State                          12750 non-null  object        \n",
      " 24  Postcode                       12755 non-null  int64         \n",
      " 25  Borough                        12755 non-null  object        \n",
      " 26  Community Board                12695 non-null  float64       \n",
      " 27  Council District               12695 non-null  float64       \n",
      " 28  BIN                            12533 non-null  float64       \n",
      " 29  BBL                            12542 non-null  float64       \n",
      " 30  NTA                            12349 non-null  object        \n",
      " 31  Latitude                       12702 non-null  float64       \n",
      " 32  Longitude                      12702 non-null  float64       \n",
      " 33                                 0 non-null      float64       \n",
      " 34   .1                            0 non-null      float64       \n",
      "dtypes: datetime64[ns](1), float64(8), int64(5), object(21)\n",
      "memory usage: 3.4+ MB\n"
     ]
    }
   ],
   "source": [
    "##Great now let's take a peek under the hood of the data \n",
    "wm_data.info()"
   ]
  },
  {
   "cell_type": "code",
   "execution_count": 4,
   "id": "72a5624e-3f99-4939-adc5-85bfc670d562",
   "metadata": {},
   "outputs": [],
   "source": [
    "## Okay...so now let's tackle these 7 key investigative questions: \n",
    "## 1. Identify the repeat offenders: businesses with multiple failed inspections or confiscated/condemned devices.\n",
    "## 2. Identify the geographic hotspots of device violations by borough and postal code \n",
    "## 3. Identify the most commonly inspected and/or condemned device type \n",
    "## 4. Are there seasonal spikes or trends in failures or enforcement\n",
    "## 5. What business types are most at risk of violations \n",
    "## 6. Which borough and business types received the highest confiscations\n",
    "## 7. How likely are devices to be condemned based on routine vs. complaint-driven inspections."
   ]
  },
  {
   "cell_type": "code",
   "execution_count": 21,
   "id": "ee94b45d-a3f2-47c3-8556-53731511bc8a",
   "metadata": {},
   "outputs": [
    {
     "data": {
      "text/plain": [
       "Business Name\n",
       "BOLLA OPERATING CORP.              85\n",
       "SPEEDWAY LLC                       46\n",
       "AMG RETAIL I LLC                   16\n",
       "SPRAGUE OPERATING RESOURCES LLC    13\n",
       "JAG TRANSPORTING INC               12\n",
       "LOGIC FUEL TRANSPORTATION CORP      8\n",
       "STAR ENERGY TRANSPORTATION INC.     7\n",
       "E.S.F. TRANSPORT INC.               6\n",
       "BERIL CORP                          5\n",
       "FIVE BORO FUEL OIL LTD              5\n",
       "Name: count, dtype: int64"
      ]
     },
     "execution_count": 21,
     "metadata": {},
     "output_type": "execute_result"
    }
   ],
   "source": [
    "## Let's first identify the repeat offenders: businesses with multiple failed inspections or confiscated/condemned devices.\n",
    "## Let's first filter for failed inspections\n",
    "## Then we'll count the number of failed inspections and look at the top 10\n",
    "\n",
    "failed_inspections = wm_data[wm_data[\"Devices Condemned/Confiscated\"] > 0]\n",
    "repeat_offenders = failed_inspections[\"Business Name\"].value_counts()\n",
    "repeat_offenders.head(10)"
   ]
  },
  {
   "cell_type": "code",
   "execution_count": 6,
   "id": "b10a7594-eae9-4acc-b1c3-0a73244e9e3b",
   "metadata": {},
   "outputs": [
    {
     "data": {
      "text/html": [
       "<div>\n",
       "<style scoped>\n",
       "    .dataframe tbody tr th:only-of-type {\n",
       "        vertical-align: middle;\n",
       "    }\n",
       "\n",
       "    .dataframe tbody tr th {\n",
       "        vertical-align: top;\n",
       "    }\n",
       "\n",
       "    .dataframe thead th {\n",
       "        text-align: right;\n",
       "    }\n",
       "</style>\n",
       "<table border=\"1\" class=\"dataframe\">\n",
       "  <thead>\n",
       "    <tr style=\"text-align: right;\">\n",
       "      <th></th>\n",
       "      <th>Business Name</th>\n",
       "      <th>Business Category</th>\n",
       "    </tr>\n",
       "  </thead>\n",
       "  <tbody>\n",
       "    <tr>\n",
       "      <th>456</th>\n",
       "      <td>SPRAGUE OPERATING RESOURCES LLC</td>\n",
       "      <td>Fuel Oil Dealer - 814</td>\n",
       "    </tr>\n",
       "    <tr>\n",
       "      <th>541</th>\n",
       "      <td>BOLLA OPERATING CORP.</td>\n",
       "      <td>Gas Station-Retail - 815</td>\n",
       "    </tr>\n",
       "    <tr>\n",
       "      <th>3140</th>\n",
       "      <td>SPEEDWAY LLC</td>\n",
       "      <td>Gas Station-Retail - 815</td>\n",
       "    </tr>\n",
       "    <tr>\n",
       "      <th>5234</th>\n",
       "      <td>BERIL CORP</td>\n",
       "      <td>Gas Station-Retail - 815</td>\n",
       "    </tr>\n",
       "    <tr>\n",
       "      <th>5253</th>\n",
       "      <td>STAR ENERGY TRANSPORTATION INC.</td>\n",
       "      <td>Fuel Oil Dealer - 814</td>\n",
       "    </tr>\n",
       "    <tr>\n",
       "      <th>5337</th>\n",
       "      <td>AMG RETAIL I LLC</td>\n",
       "      <td>Gas Station-Retail - 815</td>\n",
       "    </tr>\n",
       "    <tr>\n",
       "      <th>5689</th>\n",
       "      <td>JAG TRANSPORTING INC</td>\n",
       "      <td>Fuel Oil Dealer - 814</td>\n",
       "    </tr>\n",
       "    <tr>\n",
       "      <th>5754</th>\n",
       "      <td>LOGIC FUEL TRANSPORTATION CORP</td>\n",
       "      <td>Fuel Oil Dealer - 814</td>\n",
       "    </tr>\n",
       "    <tr>\n",
       "      <th>5944</th>\n",
       "      <td>SPRAGUE OPERATING RESOURCES LLC</td>\n",
       "      <td>Gasoline Truck-Retail - 822</td>\n",
       "    </tr>\n",
       "    <tr>\n",
       "      <th>6063</th>\n",
       "      <td>E.S.F. TRANSPORT INC.</td>\n",
       "      <td>Fuel Oil Dealer - 814</td>\n",
       "    </tr>\n",
       "    <tr>\n",
       "      <th>6080</th>\n",
       "      <td>FIVE BORO FUEL OIL LTD</td>\n",
       "      <td>Fuel Oil Dealer - 814</td>\n",
       "    </tr>\n",
       "  </tbody>\n",
       "</table>\n",
       "</div>"
      ],
      "text/plain": [
       "                        Business Name            Business Category\n",
       "456   SPRAGUE OPERATING RESOURCES LLC        Fuel Oil Dealer - 814\n",
       "541             BOLLA OPERATING CORP.     Gas Station-Retail - 815\n",
       "3140                     SPEEDWAY LLC     Gas Station-Retail - 815\n",
       "5234                       BERIL CORP     Gas Station-Retail - 815\n",
       "5253  STAR ENERGY TRANSPORTATION INC.        Fuel Oil Dealer - 814\n",
       "5337                 AMG RETAIL I LLC     Gas Station-Retail - 815\n",
       "5689             JAG TRANSPORTING INC        Fuel Oil Dealer - 814\n",
       "5754   LOGIC FUEL TRANSPORTATION CORP        Fuel Oil Dealer - 814\n",
       "5944  SPRAGUE OPERATING RESOURCES LLC  Gasoline Truck-Retail - 822\n",
       "6063            E.S.F. TRANSPORT INC.        Fuel Oil Dealer - 814\n",
       "6080           FIVE BORO FUEL OIL LTD        Fuel Oil Dealer - 814"
      ]
     },
     "execution_count": 6,
     "metadata": {},
     "output_type": "execute_result"
    }
   ],
   "source": [
    "# Now from our list of top repeat offenders, let's see what business category they fall into\n",
    "# First, extract the list of top repeat offenders\n",
    "top_offenders = [\n",
    "    \"BOLLA OPERATING CORP.\",\n",
    "    \"SPEEDWAY LLC\",\n",
    "    \"AMG RETAIL I LLC\",\n",
    "    \"SPRAGUE OPERATING RESOURCES LLC\",\n",
    "    \"JAG TRANSPORTING INC\",\n",
    "    \"LOGIC FUEL TRANSPORTATION CORP\",\n",
    "    \"STAR ENERGY TRANSPORTATION INC.\",\n",
    "    \"E.S.F. TRANSPORT INC.\",\n",
    "    \"BERIL CORP\",\n",
    "    \"FIVE BORO FUEL OIL LTD\"\n",
    "]\n",
    "\n",
    "# Filter the failed inspections for just these businesses\n",
    "top_failed = failed_inspections[failed_inspections[\"Business Name\"].isin(top_offenders)]\n",
    "\n",
    "# Check their business categories\n",
    "top_failed[[\"Business Name\", \"Business Category\"]].drop_duplicates()\n"
   ]
  },
  {
   "cell_type": "code",
   "execution_count": 27,
   "id": "3dd7a596-f27a-4935-a4fd-a6c10601477e",
   "metadata": {},
   "outputs": [
    {
     "data": {
      "text/plain": [
       "Device Type\n",
       "Octane Sample          140\n",
       "Petrol Meter Type B     49\n",
       "Petrol Pump Diesel       5\n",
       "Petrol Pump Blend        4\n",
       "No Fee Gas Pump          2\n",
       "Petrol Meter Type A      2\n",
       "Petrol Pump Single       1\n",
       "Name: count, dtype: int64"
      ]
     },
     "execution_count": 27,
     "metadata": {},
     "output_type": "execute_result"
    }
   ],
   "source": [
    "## Now lets get a ranked list of what devices were being condemned at each repeat offender's inspection\n",
    "top_failed[\"Device Type\"].value_counts()"
   ]
  },
  {
   "cell_type": "code",
   "execution_count": 29,
   "id": "250c0133-b735-422f-9413-4a65591784bd",
   "metadata": {},
   "outputs": [
    {
     "data": {
      "text/plain": [
       "Business Name                    Device Type        \n",
       "BOLLA OPERATING CORP.            Octane Sample          82\n",
       "SPEEDWAY LLC                     Octane Sample          38\n",
       "AMG RETAIL I LLC                 Octane Sample          16\n",
       "SPRAGUE OPERATING RESOURCES LLC  Petrol Meter Type B    13\n",
       "JAG TRANSPORTING INC             Petrol Meter Type B    12\n",
       "LOGIC FUEL TRANSPORTATION CORP   Petrol Meter Type B     7\n",
       "STAR ENERGY TRANSPORTATION INC.  Petrol Meter Type B     7\n",
       "E.S.F. TRANSPORT INC.            Petrol Meter Type B     6\n",
       "FIVE BORO FUEL OIL LTD           Petrol Meter Type B     4\n",
       "BERIL CORP                       Octane Sample           4\n",
       "SPEEDWAY LLC                     Petrol Pump Diesel      3\n",
       "                                 No Fee Gas Pump         2\n",
       "BOLLA OPERATING CORP.            Petrol Pump Blend       2\n",
       "SPEEDWAY LLC                     Petrol Pump Blend       2\n",
       "BOLLA OPERATING CORP.            Petrol Pump Diesel      1\n",
       "FIVE BORO FUEL OIL LTD           Petrol Meter Type A     1\n",
       "LOGIC FUEL TRANSPORTATION CORP   Petrol Meter Type A     1\n",
       "SPEEDWAY LLC                     Petrol Pump Single      1\n",
       "BERIL CORP                       Petrol Pump Diesel      1\n",
       "dtype: int64"
      ]
     },
     "execution_count": 29,
     "metadata": {},
     "output_type": "execute_result"
    }
   ],
   "source": [
    "##Now let's see which device type had the most failure per business\n",
    "top_failed.groupby([\"Business Name\", \"Device Type\"]).size().sort_values(ascending=False)"
   ]
  },
  {
   "cell_type": "markdown",
   "id": "95f30b9b-c2c3-42fe-8210-eb58ecbcf38f",
   "metadata": {},
   "source": [
    "Between 2023 and 2025, Bolla Operating Corp. topped the list of repeat offenders in NYC’s Weights and Measures inspections, failing 85 inspections across multiple locations — more than any other company. Speedway LLC followed with 46 failed inspections, and AMG Retail I LLC with 16.\n",
    "\n",
    "The violations uncovered go beyond just faulty gas pumps. At the heart of these inspections were two critical issues: fuel quality and metering accuracy — both of which directly impact how much fuel consumers receive and what they pay for.\n",
    "\n",
    "Bolla alone failed 82 octane sample tests, the highest in the city, suggesting a pattern of mislabeled or tampered fuel — a practice that could mean consumers are paying premium prices for regular-grade gas. In total, the top 10 offenders were cited in over 140 octane sampling failures, pointing to a widespread and systemic issue in fuel integrity across NYC.\n",
    "\n",
    "At the same time, wholesalers like Sprague Operating Resources and JAG Transporting Inc. were repeatedly cited for Petrol Meter Type B violations — truck-mounted flow meters used to deliver heating oil or diesel to buildings and commercial customers. These meters, when miscalibrated, can result in underdelivery or overbilling, raising serious concerns about fuel delivery fraud in the supply chain.\n",
    "\n",
    "In short, NYC’s most frequently cited fuel businesses failed not only to dispense fuel accurately — they often failed to deliver what they claimed was in the tank at all. These violations reflect more than broken hardware; they point to systemic negligence — or worse, economic deception — affecting everyday consumers and businesses alike."
   ]
  },
  {
   "cell_type": "code",
   "execution_count": null,
   "id": "e8a01fa9-7dc8-46a7-911a-acd677ff814f",
   "metadata": {},
   "outputs": [],
   "source": []
  }
 ],
 "metadata": {
  "kernelspec": {
   "display_name": "Python [conda env:base] *",
   "language": "python",
   "name": "conda-base-py"
  },
  "language_info": {
   "codemirror_mode": {
    "name": "ipython",
    "version": 3
   },
   "file_extension": ".py",
   "mimetype": "text/x-python",
   "name": "python",
   "nbconvert_exporter": "python",
   "pygments_lexer": "ipython3",
   "version": "3.12.7"
  }
 },
 "nbformat": 4,
 "nbformat_minor": 5
}
